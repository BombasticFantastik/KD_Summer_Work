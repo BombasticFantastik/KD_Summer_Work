{
 "cells": [
  {
   "cell_type": "code",
   "execution_count": 2,
   "id": "edbad27a",
   "metadata": {},
   "outputs": [
    {
     "name": "stdout",
     "output_type": "stream",
     "text": [
      "<_io.TextIOWrapper name='D:/Code/KD_Summer_Work/config.yml' mode='r' encoding='cp1251'>\n"
     ]
    }
   ],
   "source": [
    "import yaml\n",
    "from Dataset import BootDataset\n",
    "import os\n",
    "\n",
    "option_path=fr'D:/Code/KD_Summer_Work/config.yml'\n",
    "with open(option_path,'r') as file_option:\n",
    "    print(file_option)\n",
    "    option=yaml.safe_load(file_option)\n",
    "\n",
    "dataset=BootDataset(option['data_path'])\n"
   ]
  },
  {
   "cell_type": "code",
   "execution_count": 4,
   "id": "917f8923",
   "metadata": {},
   "outputs": [
    {
     "data": {
      "text/plain": [
       "1"
      ]
     },
     "execution_count": 4,
     "metadata": {},
     "output_type": "execute_result"
    }
   ],
   "source": [
    "dataset[5]"
   ]
  },
  {
   "cell_type": "code",
   "execution_count": null,
   "id": "9493de7e",
   "metadata": {},
   "outputs": [],
   "source": []
  }
 ],
 "metadata": {
  "kernelspec": {
   "display_name": "base",
   "language": "python",
   "name": "python3"
  },
  "language_info": {
   "codemirror_mode": {
    "name": "ipython",
    "version": 3
   },
   "file_extension": ".py",
   "mimetype": "text/x-python",
   "name": "python",
   "nbconvert_exporter": "python",
   "pygments_lexer": "ipython3",
   "version": "3.12.7"
  }
 },
 "nbformat": 4,
 "nbformat_minor": 5
}
